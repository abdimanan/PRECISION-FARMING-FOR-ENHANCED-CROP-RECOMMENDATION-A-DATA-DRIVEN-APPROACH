{
  "cells": [
    {
      "cell_type": "markdown",
      "metadata": {
        "id": "J-V83MBvidji"
      },
      "source": [
        "**Step 1: Load and Explore the Data**"
      ]
    },
    {
      "cell_type": "code",
      "execution_count": 16,
      "metadata": {
        "id": "7wyScJOqcXJ3",
        "colab": {
          "base_uri": "https://localhost:8080/"
        },
        "outputId": "a42a9f36-8dab-4ae3-dc3d-8e9ddb7eef08"
      },
      "outputs": [
        {
          "output_type": "stream",
          "name": "stdout",
          "text": [
            "    N   P   K  temperature   humidity        ph    rainfall label\n",
            "0  74  35  40    26.491096  80.158363  6.980401  242.864034  rice\n",
            "1  86  59  35    25.787206  82.111240  6.946636  243.512041  rice\n",
            "2  60  55  45    21.408658  83.329319  5.935745  287.576693  rice\n",
            "3  97  36  45    22.228698  81.858729  6.939084  278.079179  rice\n",
            "4  90  44  38    23.835095  83.883871  7.473134  241.201351  rice \n",
            "\n",
            "<class 'pandas.core.frame.DataFrame'>\n",
            "RangeIndex: 120 entries, 0 to 119\n",
            "Data columns (total 8 columns):\n",
            " #   Column       Non-Null Count  Dtype  \n",
            "---  ------       --------------  -----  \n",
            " 0   N            120 non-null    int64  \n",
            " 1   P            120 non-null    int64  \n",
            " 2   K            120 non-null    int64  \n",
            " 3   temperature  120 non-null    float64\n",
            " 4   humidity     120 non-null    float64\n",
            " 5   ph           120 non-null    float64\n",
            " 6   rainfall     120 non-null    float64\n",
            " 7   label        120 non-null    object \n",
            "dtypes: float64(4), int64(3), object(1)\n",
            "memory usage: 7.6+ KB\n",
            "None \n",
            "\n",
            "                N           P           K  temperature    humidity  \\\n",
            "count  120.000000  120.000000  120.000000   120.000000  120.000000   \n",
            "mean    59.883333   49.716667   51.250000    26.560341   77.858136   \n",
            "std     37.500517   35.756690   50.782656     4.959047   16.901435   \n",
            "min      0.000000    6.000000   11.000000     9.724458   15.845726   \n",
            "25%     23.000000   22.750000   25.750000    23.641275   66.473770   \n",
            "50%     64.000000   44.000000   35.000000    25.802064   83.346198   \n",
            "75%     90.000000   60.000000   50.000000    28.805784   91.253507   \n",
            "max    139.000000  145.000000  205.000000    40.788818   99.188437   \n",
            "\n",
            "               ph    rainfall  \n",
            "count  120.000000  120.000000  \n",
            "mean     6.312009  118.537781  \n",
            "std      0.638924   60.142616  \n",
            "min      4.555689   25.094845  \n",
            "25%      5.855844   82.299895  \n",
            "50%      6.233654   99.929258  \n",
            "75%      6.711933  148.465795  \n",
            "max      7.994465  291.298662  \n"
          ]
        }
      ],
      "source": [
        "import pandas as pd\n",
        "\n",
        "# Load the dataset\n",
        "file_path = '/content/Crop_Reco_Data.csv'\n",
        "data = pd.read_csv(file_path)\n",
        "\n",
        "# Display the first few rows of the dataset\n",
        "print(data.head(),\"\\n\")\n",
        "print(data.info(),'\\n')\n",
        "print(data.describe())\n"
      ]
    },
    {
      "cell_type": "markdown",
      "metadata": {
        "id": "aA9GBAZUiio8"
      },
      "source": [
        "**Step 2: Data Preprocessing** Prepare the data for modeling by handling missing values, encoding categorical variables, and splitting the dataset into training and testing sets."
      ]
    },
    {
      "cell_type": "code",
      "execution_count": 17,
      "metadata": {
        "id": "kZbx51uFiZH1",
        "colab": {
          "base_uri": "https://localhost:8080/"
        },
        "outputId": "3701eebb-c5e9-4604-d39a-59617c3d764d"
      },
      "outputs": [
        {
          "output_type": "stream",
          "name": "stdout",
          "text": [
            "N              0\n",
            "P              0\n",
            "K              0\n",
            "temperature    0\n",
            "humidity       0\n",
            "ph             0\n",
            "rainfall       0\n",
            "label          0\n",
            "dtype: int64\n"
          ]
        }
      ],
      "source": [
        "from sklearn.model_selection import train_test_split\n",
        "from sklearn.preprocessing import LabelEncoder\n",
        "\n",
        "# Check for missing values\n",
        "print(data.isnull().sum())\n",
        "\n",
        "# Encode categorical variables if necessary\n",
        "label_encoder = LabelEncoder()\n",
        "data['label'] = label_encoder.fit_transform(data['label'])\n",
        "\n",
        "# Define features and target variable\n",
        "X = data.drop('label', axis=1)\n",
        "y = data['label']\n",
        "\n",
        "# Split the dataset into training and testing sets\n",
        "X_train, X_test, y_train, y_test = train_test_split(X, y, test_size=0.2, random_state=42)\n"
      ]
    },
    {
      "cell_type": "markdown",
      "metadata": {
        "id": "BKM7C4hHkgvi"
      },
      "source": [
        "**Step 3: Model Selection and Training**\n",
        "Choose a machine learning algorithm and train the model. We'll use a Random Forest classifier for this example."
      ]
    },
    {
      "source": [
        "import numpy as np\n",
        "unique_classes = np.unique(y_test)\n",
        "target_names=label_encoder.classes_[unique_classes]\n",
        "from sklearn.ensemble import RandomForestClassifier\n",
        "from sklearn.metrics import classification_report, accuracy_score\n",
        "\n",
        "# Initialize the model\n",
        "model = RandomForestClassifier(random_state=42)\n",
        "\n",
        "# Train the model\n",
        "model.fit(X_train, y_train)\n",
        "\n",
        "# Make predictions on the test set\n",
        "y_pred = model.predict(X_test)\n",
        "\n",
        "# Evaluate the model\n",
        "accuracy = accuracy_score(y_test, y_pred)\n",
        "print(f'Accuracy: {accuracy * 100:.2f}%')\n",
        "\n",
        "# Get unique class labels from y_test or y_pred\n",
        "unique_classes = np.unique(y_test)  # You can also use np.unique(y_pred)\n",
        "\n",
        "# Generate classification report using the identified unique classes\n",
        "print(classification_report(y_test, y_pred, target_names=label_encoder.classes_[unique_classes]))"
      ],
      "cell_type": "code",
      "metadata": {
        "colab": {
          "base_uri": "https://localhost:8080/"
        },
        "id": "CMl6RYp2U7Dx",
        "outputId": "43cec0da-8fe9-47af-ef60-857c270a7852"
      },
      "execution_count": 18,
      "outputs": [
        {
          "output_type": "stream",
          "name": "stdout",
          "text": [
            "Accuracy: 95.83%\n",
            "              precision    recall  f1-score   support\n",
            "\n",
            "       apple       1.00      1.00      1.00         3\n",
            "      banana       1.00      1.00      1.00         2\n",
            "     coconut       1.00      1.00      1.00         3\n",
            "      cotton       1.00      1.00      1.00         2\n",
            "       maize       1.00      1.00      1.00         3\n",
            "       mango       1.00      1.00      1.00         3\n",
            "   muskmelon       1.00      1.00      1.00         1\n",
            "      orange       0.50      1.00      0.67         1\n",
            "      papaya       1.00      1.00      1.00         2\n",
            " pomegranate       0.00      0.00      0.00         1\n",
            "        rice       1.00      1.00      1.00         2\n",
            "  watermelon       1.00      1.00      1.00         1\n",
            "\n",
            "    accuracy                           0.96        24\n",
            "   macro avg       0.88      0.92      0.89        24\n",
            "weighted avg       0.94      0.96      0.94        24\n",
            "\n"
          ]
        },
        {
          "output_type": "stream",
          "name": "stderr",
          "text": [
            "/usr/local/lib/python3.10/dist-packages/sklearn/metrics/_classification.py:1344: UndefinedMetricWarning: Precision and F-score are ill-defined and being set to 0.0 in labels with no predicted samples. Use `zero_division` parameter to control this behavior.\n",
            "  _warn_prf(average, modifier, msg_start, len(result))\n",
            "/usr/local/lib/python3.10/dist-packages/sklearn/metrics/_classification.py:1344: UndefinedMetricWarning: Precision and F-score are ill-defined and being set to 0.0 in labels with no predicted samples. Use `zero_division` parameter to control this behavior.\n",
            "  _warn_prf(average, modifier, msg_start, len(result))\n",
            "/usr/local/lib/python3.10/dist-packages/sklearn/metrics/_classification.py:1344: UndefinedMetricWarning: Precision and F-score are ill-defined and being set to 0.0 in labels with no predicted samples. Use `zero_division` parameter to control this behavior.\n",
            "  _warn_prf(average, modifier, msg_start, len(result))\n"
          ]
        }
      ]
    },
    {
      "cell_type": "markdown",
      "metadata": {
        "id": "uF9q8lFjl4lQ"
      },
      "source": [
        "**Step 5: Feature Importance and Visualization**\n",
        "Understand which features are most important for the model's predictions."
      ]
    },
    {
      "cell_type": "code",
      "source": [
        "import matplotlib.pyplot as plt\n",
        "import numpy as np  # Import NumPy\n",
        "\n",
        "# Feature importance\n",
        "importances = model.feature_importances_\n",
        "indices = np.argsort(importances)[::-1]  # Now np is defined\n",
        "\n",
        "# Plot feature importances\n",
        "plt.figure(figsize=(10, 6))\n",
        "plt.title('Feature Importances')\n",
        "plt.bar(range(X.shape[1]), importances[indices], align='center')\n",
        "plt.xticks(range(X.shape[1]), [X.columns[i] for i in indices], rotation=90)\n",
        "plt.tight_layout()\n",
        "plt.show()"
      ],
      "metadata": {
        "id": "N_XoXg_iow0h"
      },
      "execution_count": null,
      "outputs": []
    },
    {
      "cell_type": "markdown",
      "source": [
        "**Step 6: Save the Model**\n",
        "Save the trained model for future use."
      ],
      "metadata": {
        "id": "FMCiExN1pzQt"
      }
    },
    {
      "source": [
        "import joblib\n",
        "\n",
        "# Save the model to a file\n",
        "joblib.dump(model, 'crop_recommendation_model.pkl') # Use 'model' instead of 'best_model'"
      ],
      "cell_type": "code",
      "metadata": {
        "id": "ETlyPVF9gW85"
      },
      "execution_count": null,
      "outputs": []
    },
    {
      "cell_type": "markdown",
      "source": [
        "**Step 7: Load and Use the Model**\n",
        "Load the saved model and use it for making predictions on new data."
      ],
      "metadata": {
        "id": "ncqCfaZuqevV"
      }
    },
    {
      "cell_type": "code",
      "source": [
        "# Load the model from the file\n",
        "loaded_model = joblib.load('crop_recommendation_model.pkl\n",
        "')\n",
        "# Predict on new data\n",
        "new_data = [[90, 40, 42, 20.5, 80, 7.0, 200]]  # Example new data\n",
        "prediction = loaded_model.predict(new_data)\n",
        "predicted_crop = label_encoder.inverse_transform(prediction)"
      ],
      "metadata": {
        "id": "bOgsTlmjt_FU",
        "colab": {
          "base_uri": "https://localhost:8080/"
        },
        "outputId": "b3540821-5f27-43d7-d95e-af7a149d3a15"
      },
      "execution_count": 6,
      "outputs": [
        {
          "output_type": "stream",
          "name": "stderr",
          "text": [
            "/usr/local/lib/python3.10/dist-packages/sklearn/base.py:439: UserWarning: X does not have valid feature names, but RandomForestClassifier was fitted with feature names\n",
            "  warnings.warn(\n"
          ]
        }
      ]
    },
    {
      "cell_type": "code",
      "source": [
        "print(f'Recommended crop: {predicted_crop[0]}')\n"
      ],
      "metadata": {
        "colab": {
          "base_uri": "https://localhost:8080/"
        },
        "id": "M2hE-Nl9qhvy",
        "outputId": "6888a949-95ee-4fee-d8c5-d0005438bbc7"
      },
      "execution_count": 7,
      "outputs": [
        {
          "output_type": "stream",
          "name": "stdout",
          "text": [
            "Recommended crop: jute\n"
          ]
        }
      ]
    },
    {
      "cell_type": "markdown",
      "source": [
        "the new one\n"
      ],
      "metadata": {
        "id": "Eqh9LbI8SYmH"
      }
    },
    {
      "cell_type": "code",
      "source": [
        "label_encoder = LabelEncoder()\n",
        "data['label'] = label_encoder.fit_transform(data['label'])\n",
        "joblib.dump(label_encoder, 'label_encoder.pkl')\n"
      ],
      "metadata": {
        "id": "V8lhE1t_Thli",
        "outputId": "d2bc4887-476d-4f4e-83db-1bb0bfbc1bc2",
        "colab": {
          "base_uri": "https://localhost:8080/"
        }
      },
      "execution_count": 10,
      "outputs": [
        {
          "output_type": "execute_result",
          "data": {
            "text/plain": [
              "['label_encoder.pkl']"
            ]
          },
          "metadata": {},
          "execution_count": 10
        }
      ]
    },
    {
      "cell_type": "code",
      "source": [
        "model = joblib.load('crop_recommendation_model.pkl')\n",
        "label_encoder = joblib.load('label_encoder.pkl')\n"
      ],
      "metadata": {
        "id": "TO1RziYaThIo"
      },
      "execution_count": 11,
      "outputs": []
    },
    {
      "cell_type": "code",
      "source": [
        "import pandas as pd\n",
        "import joblib\n",
        "from sklearn.preprocessing import LabelEncoder\n",
        "from sklearn.ensemble import RandomForestClassifier\n",
        "from sklearn.model_selection import train_test_split\n",
        "from sklearn.metrics import classification_report, accuracy_score\n",
        "\n",
        "# Load the dataset\n",
        "data = pd.read_csv('Crop_Reco_Data.csv')\n",
        "\n",
        "# Encode categorical variables if necessary\n",
        "label_encoder = LabelEncoder()\n",
        "data['label'] = label_encoder.fit_transform(data['label'])\n",
        "\n",
        "# Define features and target variable\n",
        "X = data.drop('label', axis=1)\n",
        "y = data['label']\n",
        "\n",
        "# Split the dataset into training and testing sets\n",
        "X_train, X_test, y_train, y_test = train_test_split(X, y, test_size=0.2, random_state=42)\n",
        "\n",
        "# Train the model\n",
        "model = RandomForestClassifier(random_state=42)\n",
        "model.fit(X_train, y_train)\n",
        "\n",
        "# Save the model and LabelEncoder\n",
        "joblib.dump(model, 'crop_recommendation_model.pkl')\n",
        "joblib.dump(label_encoder, 'label_encoder.pkl')\n",
        "\n",
        "# Command-line interface\n",
        "if __name__ == \"__main__\":\n",
        "    model = joblib.load('crop_recommendation_model.pkl')\n",
        "    label_encoder = joblib.load('label_encoder.pkl')\n",
        "\n",
        "    print(\"Crop Recommendation System\")\n",
        "    n = float(input(\"Enter Nitrogen content (N) in soil: \"))\n",
        "    p = float(input(\"Enter Phosphorus content (P) in soil: \"))\n",
        "    k = float(input(\"Enter Potassium content (K) in soil: \"))\n",
        "    temperature = float(input(\"Enter temperature in Celsius: \"))\n",
        "    humidity = float(input(\"Enter humidity in %: \"))\n",
        "    ph = float(input(\"Enter soil pH: \"))\n",
        "    rainfall = float(input(\"Enter rainfall in mm: \"))\n",
        "\n",
        "    new_data = [[n, p, k, temperature, humidity, ph, rainfall]]\n",
        "    prediction = model.predict(new_data)\n",
        "    predicted_crop = label_encoder.inverse_transform(prediction)\n",
        "    print(f\"Recommended crop: {predicted_crop[0]}\")\n"
      ],
      "metadata": {
        "id": "eP_OwQCDTuB8",
        "outputId": "6c605dde-0fd3-49a6-9f12-817630c31ec4",
        "colab": {
          "base_uri": "https://localhost:8080/"
        }
      },
      "execution_count": 22,
      "outputs": [
        {
          "output_type": "stream",
          "name": "stdout",
          "text": [
            "Crop Recommendation System\n",
            "Enter Nitrogen content (N) in soil: 89\n",
            "Enter Phosphorus content (P) in soil: 9\n",
            "Enter Potassium content (K) in soil: 47\n",
            "Enter temperature in Celsius: 29.47156\n",
            "Enter humidity in %: 90.7707\n",
            "Enter soil pH: 6.668383\n",
            "Enter rainfall in mm: 28.75226\n",
            "Recommended crop: muskmelon\n"
          ]
        },
        {
          "output_type": "stream",
          "name": "stderr",
          "text": [
            "/usr/local/lib/python3.10/dist-packages/sklearn/base.py:439: UserWarning: X does not have valid feature names, but RandomForestClassifier was fitted with feature names\n",
            "  warnings.warn(\n"
          ]
        }
      ]
    }
  ],
  "metadata": {
    "colab": {
      "provenance": []
    },
    "kernelspec": {
      "display_name": "Python 3",
      "name": "python3"
    },
    "language_info": {
      "name": "python"
    }
  },
  "nbformat": 4,
  "nbformat_minor": 0
}